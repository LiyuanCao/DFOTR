{
 "cells": [
  {
   "cell_type": "code",
   "execution_count": 1,
   "metadata": {},
   "outputs": [],
   "source": [
    "import os, sys, inspect\n",
    "cmd_subfolder = os.path.realpath(os.path.abspath(os.path.join(os.path.split(inspect.getfile( inspect.currentframe() ))[0],\"Python3\")))\n",
    "if cmd_subfolder not in sys.path:\n",
    "    sys.path.insert(0, cmd_subfolder)\n",
    "\n",
    "import numpy as np\n",
    "# import solver\n",
    "# from Python3.dfo_tr import dfo_tr\n",
    "from Python3_experimental.dfo_tr import dfo_tr\n",
    "# import blackbox functions\n",
    "from funcs_def import arwhead, rosen"
   ]
  },
  {
   "cell_type": "code",
   "execution_count": 2,
   "metadata": {},
   "outputs": [],
   "source": [
    "# choose function\n",
    "func = arwhead\n",
    "# func = rosen\n",
    "\n",
    "# starting point\n",
    "x0 = np.ones(10) * 0.5\n",
    "# x0 = np.repeat(np.array([[-1.2, 1]]), 2, axis=0).flatten()\n",
    "\n",
    "# bounds\n",
    "bounds = None\n",
    "# bounds = [(-3,0.9)]*20\n",
    "\n",
    "# overwrite default settings\n",
    "customOptions = {'alg_model': 'quadratic',\n",
    "                'alg_TR': 'ball', \n",
    "                'alg_TRsub': 'exact',\n",
    "                'tr_delta': 0.5, \n",
    "                'sample_toremove': 20,\n",
    "                'stop_nfeval': 128,\n",
    "                'stop_predict': 0.,\n",
    "                'verbosity': 2\n",
    "                }"
   ]
  },
  {
   "cell_type": "code",
   "execution_count": 7,
   "metadata": {},
   "outputs": [
    {
     "name": "stdout",
     "output_type": "stream",
     "text": [
      "\n",
      " Iteration Report \n",
      "|  iter |suc|  objective  | TR_radius |    rho    | m  |\n",
      "|     0 |---| 1.01896e+01 |  0.500000 | --------- | 11 \n",
      "|     1 | 0 | 1.11100e+01 |  0.475000 | -0.222793 | 15 |\n",
      "|     2 | 1 | 8.51341e+00 |  0.475000 |  0.159774 | 19 |\n",
      "|     3 | 1 | 8.24463e+00 |  0.475000 |  0.016480 | 23 |\n",
      "|     4 | 1 | 6.78406e+00 |  0.475000 |  0.062194 | 27 |\n",
      "|     5 | 0 | 8.38699e+00 |  0.451250 | -0.047610 | 31 |\n",
      "|     6 | 0 | 9.11439e+00 |  0.428687 | -0.117756 | 35 |\n",
      "|     7 | 0 | 8.81159e+00 |  0.407253 | -0.145978 | 39 |\n",
      "|     8 | 1 | 6.45576e+00 |  0.407253 |  0.096251 | 43 |\n",
      "|     9 | 0 | 9.11819e+00 |  0.386890 | -0.170694 | 47 |\n",
      "|    10 | 0 | 7.60043e+00 |  0.367546 | -0.050892 | 51 |\n",
      "|    11 | 0 | 7.64396e+00 |  0.349169 | -0.056496 | 55 |\n",
      "|    12 | 0 | 7.46846e+00 |  0.331710 | -0.058427 | 59 |\n",
      "|    13 | 1 | 5.18389e+00 |  0.431223 |  0.543010 | 63 |\n",
      "|    14 | 1 | 4.80348e+00 |  0.431223 |  0.104519 | 66 |\n",
      "|    15 | 1 | 2.59579e-01 |  0.560590 |  0.556858 | 66 |\n",
      "|    16 | 0 | 3.42313e+00 |  0.532561 | -0.184125 | 66 |\n",
      "|    17 | 0 | 4.97886e+00 |  0.505933 | -0.505066 | 66 |\n",
      "|    18 | 1 | 1.11279e+00 |  0.505933 |  0.173904 | 66 |\n",
      "|    19 | 1 | 1.51964e+00 |  0.505933 |  0.063179 | 66 |\n",
      "|    20 | 0 | 5.21669e+00 |  0.480636 | -1.372870 | 66 |\n",
      "|    21 | 0 | 2.86108e+00 |  0.456604 | -0.135787 | 66 |\n",
      "|    22 | 0 | 5.52140e+00 |  0.433774 | -1.036669 | 66 |\n",
      "|    23 | 1 | 1.51963e+00 |  0.433774 |  0.168925 | 66 |\n",
      "|    24 | 0 | 4.95211e+00 |  0.412085 | -0.471842 | 66 |\n",
      "|    25 | 1 | 3.15567e+00 |  0.412085 |  0.023406 | 66 |\n",
      "|    26 | 1 | 1.23599e+00 |  0.535711 |  1.258950 | 66 |\n",
      "|    27 | 0 | 3.47857e+00 |  0.508925 | -0.808375 | 66 |\n",
      "|    28 | 0 | 7.94807e+00 |  0.483479 | -2.971674 | 66 |\n",
      "|    29 | 0 | 3.50119e+00 |  0.459305 | -0.728783 | 66 |\n",
      "|    30 | 0 | 4.83582e+00 |  0.436340 | -3.379452 | 66 |\n",
      "Exiting because the maximum number of function evaluations is reached.\n",
      "***************** FINAL REPORT ************************\n",
      "total elapsed time: 0.2020268440246582 seconds\n",
      "\n",
      "|#iter|#success|#fevals| best fvalue |final tr_radius|final predicted decrease|\n",
      "|   31|    12  |   131 | 2.59579e-01 |    0.436340   |       1.64511e+00      |\n",
      "\n"
     ]
    }
   ],
   "source": [
    "hist_x = np.array([])\n",
    "hist_fx = np.array([])\n",
    "hist_phix = np.array([])\n",
    "\n",
    "# optimization in ask and tell frameword\n",
    "optimizer = dfo_tr(x0, options=customOptions)\n",
    "while True:\n",
    "    x = optimizer.ask(4)\n",
    "    fx = [func(xi) + 1.0 * np.random.randn() for xi in x]\n",
    "    hist_x = np.append(hist_x, x)\n",
    "    hist_fx = np.append(hist_fx, fx)\n",
    "    hist_phix = np.append(hist_phix, [func(xi) for xi in x])\n",
    "    optimizer.tell(x,fx)\n",
    "    if optimizer._stop():\n",
    "        break"
   ]
  },
  {
   "cell_type": "code",
   "execution_count": 8,
   "metadata": {},
   "outputs": [
    {
     "name": "stdout",
     "output_type": "stream",
     "text": [
      "Printing result for function arwhead:\n",
      "best point: 2.21438, with obj: 2.214375\n"
     ]
    }
   ],
   "source": [
    "idx = np.nanargmin(hist_phix)\n",
    "x = hist_phix[idx]\n",
    "fx = hist_phix[idx]\n",
    "\n",
    "# print result\n",
    "print(\"Printing result for function \" + func.__name__ + \":\")\n",
    "print(\"best point: {}, with obj: {:.6f}\".format(\n",
    "    np.around(x, decimals=5), float(fx)))"
   ]
  },
  {
   "cell_type": "markdown",
   "metadata": {},
   "source": [
    "# Make plots."
   ]
  },
  {
   "cell_type": "code",
   "execution_count": 5,
   "metadata": {},
   "outputs": [],
   "source": [
    "import matplotlib.pyplot as plt \n",
    "import matplotlib.animation as animation"
   ]
  },
  {
   "cell_type": "code",
   "execution_count": 11,
   "metadata": {},
   "outputs": [
    {
     "data": {
      "image/png": "[encoded data removed]",
      "text/plain": [
       "<Figure size 720x504 with 1 Axes>"
      ]
     },
     "metadata": {
      "needs_background": "light"
     },
     "output_type": "display_data"
    }
   ],
   "source": [
    "plt.rcParams['figure.figsize'] = [10,7]\n",
    "plt.plot(range(len(hist_fx)), hist_fx, 'bo', alpha=0.3, label='function evalues')\n",
    "plt.plot(range(len(hist_fx)), hist_phix, 'go', alpha=0.3, label='true values')\n",
    "# plt.plot(range(len(history_f)), np.array(list(accumulate(true_values, min))))\n",
    "plt.legend()\n",
    "plt.xlabel('function evaluation in chronological order')\n",
    "plt.ylabel('$f(x)$')\n",
    "plt.show()"
   ]
  },
  {
   "cell_type": "code",
   "execution_count": 23,
   "metadata": {},
   "outputs": [
    {
     "name": "stderr",
     "output_type": "stream",
     "text": [
      "Traceback (most recent call last):\n",
      "  File \"/Users/liyuancao/opt/anaconda3/lib/python3.7/site-packages/matplotlib/cbook/__init__.py\", line 216, in process\n",
      "    func(*args, **kwargs)\n",
      "  File \"/Users/liyuancao/opt/anaconda3/lib/python3.7/site-packages/matplotlib/animation.py\", line 953, in _start\n",
      "    self._init_draw()\n",
      "  File \"/Users/liyuancao/opt/anaconda3/lib/python3.7/site-packages/matplotlib/animation.py\", line 1740, in _init_draw\n",
      "    for a in self._drawn_artists:\n",
      "TypeError: 'PathCollection' object is not iterable\n"
     ]
    },
    {
     "ename": "RuntimeError",
     "evalue": "Requested MovieWriter (ffmpeg) not available",
     "output_type": "error",
     "traceback": [
      "\u001b[0;31m---------------------------------------------------------------------------\u001b[0m",
      "\u001b[0;31mKeyError\u001b[0m                                  Traceback (most recent call last)",
      "\u001b[0;32m~/opt/anaconda3/lib/python3.7/site-packages/matplotlib/animation.py\u001b[0m in \u001b[0;36m__getitem__\u001b[0;34m(self, name)\u001b[0m\n\u001b[1;32m    160\u001b[0m         \u001b[0;32mtry\u001b[0m\u001b[0;34m:\u001b[0m\u001b[0;34m\u001b[0m\u001b[0;34m\u001b[0m\u001b[0m\n\u001b[0;32m--> 161\u001b[0;31m             \u001b[0;32mreturn\u001b[0m \u001b[0mself\u001b[0m\u001b[0;34m.\u001b[0m\u001b[0mavail\u001b[0m\u001b[0;34m[\u001b[0m\u001b[0mname\u001b[0m\u001b[0;34m]\u001b[0m\u001b[0;34m\u001b[0m\u001b[0;34m\u001b[0m\u001b[0m\n\u001b[0m\u001b[1;32m    162\u001b[0m         \u001b[0;32mexcept\u001b[0m \u001b[0mKeyError\u001b[0m\u001b[0;34m:\u001b[0m\u001b[0;34m\u001b[0m\u001b[0;34m\u001b[0m\u001b[0m\n",
      "\u001b[0;31mKeyError\u001b[0m: 'ffmpeg'",
      "\nDuring handling of the above exception, another exception occurred:\n",
      "\u001b[0;31mRuntimeError\u001b[0m                              Traceback (most recent call last)",
      "\u001b[0;32m<ipython-input-23-df8bf4669ac2>\u001b[0m in \u001b[0;36m<module>\u001b[0;34m\u001b[0m\n\u001b[1;32m     42\u001b[0m \u001b[0;34m\u001b[0m\u001b[0m\n\u001b[1;32m     43\u001b[0m \u001b[0mani\u001b[0m \u001b[0;34m=\u001b[0m \u001b[0manimation\u001b[0m\u001b[0;34m.\u001b[0m\u001b[0mFuncAnimation\u001b[0m\u001b[0;34m(\u001b[0m\u001b[0mfig\u001b[0m\u001b[0;34m,\u001b[0m \u001b[0mupdate\u001b[0m\u001b[0;34m,\u001b[0m \u001b[0minterval\u001b[0m\u001b[0;34m=\u001b[0m\u001b[0;36m400\u001b[0m\u001b[0;34m,\u001b[0m \u001b[0mframes\u001b[0m\u001b[0;34m=\u001b[0m\u001b[0;36m16\u001b[0m\u001b[0;34m,\u001b[0m \u001b[0minit_func\u001b[0m\u001b[0;34m=\u001b[0m\u001b[0msetup_plot\u001b[0m\u001b[0;34m,\u001b[0m \u001b[0mblit\u001b[0m\u001b[0;34m=\u001b[0m\u001b[0;32mTrue\u001b[0m\u001b[0;34m)\u001b[0m\u001b[0;34m\u001b[0m\u001b[0;34m\u001b[0m\u001b[0m\n\u001b[0;32m---> 44\u001b[0;31m \u001b[0mWriter\u001b[0m \u001b[0;34m=\u001b[0m \u001b[0manimation\u001b[0m\u001b[0;34m.\u001b[0m\u001b[0mwriters\u001b[0m\u001b[0;34m[\u001b[0m\u001b[0;34m'ffmpeg'\u001b[0m\u001b[0;34m]\u001b[0m\u001b[0;34m\u001b[0m\u001b[0;34m\u001b[0m\u001b[0m\n\u001b[0m\u001b[1;32m     45\u001b[0m \u001b[0mwriter\u001b[0m \u001b[0;34m=\u001b[0m \u001b[0mWriter\u001b[0m\u001b[0;34m(\u001b[0m\u001b[0mfps\u001b[0m\u001b[0;34m=\u001b[0m\u001b[0;36m15\u001b[0m\u001b[0;34m,\u001b[0m \u001b[0mmetadata\u001b[0m\u001b[0;34m=\u001b[0m\u001b[0mdict\u001b[0m\u001b[0;34m(\u001b[0m\u001b[0martist\u001b[0m\u001b[0;34m=\u001b[0m\u001b[0;34m'Me'\u001b[0m\u001b[0;34m)\u001b[0m\u001b[0;34m,\u001b[0m \u001b[0mbitrate\u001b[0m\u001b[0;34m=\u001b[0m\u001b[0;36m1800\u001b[0m\u001b[0;34m)\u001b[0m\u001b[0;34m\u001b[0m\u001b[0;34m\u001b[0m\u001b[0m\n\u001b[1;32m     46\u001b[0m \u001b[0mani\u001b[0m\u001b[0;34m.\u001b[0m\u001b[0msave\u001b[0m\u001b[0;34m(\u001b[0m\u001b[0;34m'DFO-TR.gif'\u001b[0m\u001b[0;34m,\u001b[0m \u001b[0mwriter\u001b[0m\u001b[0;34m=\u001b[0m\u001b[0;34m'writer'\u001b[0m\u001b[0;34m)\u001b[0m\u001b[0;34m\u001b[0m\u001b[0;34m\u001b[0m\u001b[0m\n",
      "\u001b[0;32m~/opt/anaconda3/lib/python3.7/site-packages/matplotlib/animation.py\u001b[0m in \u001b[0;36m__getitem__\u001b[0;34m(self, name)\u001b[0m\n\u001b[1;32m    162\u001b[0m         \u001b[0;32mexcept\u001b[0m \u001b[0mKeyError\u001b[0m\u001b[0;34m:\u001b[0m\u001b[0;34m\u001b[0m\u001b[0;34m\u001b[0m\u001b[0m\n\u001b[1;32m    163\u001b[0m             raise RuntimeError(\n\u001b[0;32m--> 164\u001b[0;31m                 'Requested MovieWriter ({}) not available'.format(name))\n\u001b[0m\u001b[1;32m    165\u001b[0m \u001b[0;34m\u001b[0m\u001b[0m\n\u001b[1;32m    166\u001b[0m \u001b[0;34m\u001b[0m\u001b[0m\n",
      "\u001b[0;31mRuntimeError\u001b[0m: Requested MovieWriter (ffmpeg) not available"
     ]
    },
    {
     "data": {
      "image/png": "[encoded data removed]",
      "text/plain": [
       "<Figure size 720x504 with 2 Axes>"
      ]
     },
     "metadata": {
      "needs_background": "light"
     },
     "output_type": "display_data"
    }
   ],
   "source": [
    "\n",
    "fig, ax = plt.subplots()\n",
    "## heatmap of the function \n",
    "lb = [-1, -1]\n",
    "ub = [2,2]\n",
    "x1 = np.linspace(lb[0],ub[0],100)\n",
    "x2 = np.linspace(lb[1],ub[1],100)\n",
    "### filling the heatmap, value by value\n",
    "fun_map = np.empty((x1.size, x2.size))\n",
    "for i in range(x1.size):\n",
    "    for j in range(x2.size):\n",
    "        fun_map[i,j] = func(np.array([x1[i], x2[j]]))\n",
    "### plot heatmap\n",
    "im = ax.imshow(\n",
    "    fun_map,\n",
    "    extent=(lb[0], ub[0], lb[1], ub[1]),\n",
    "    origin='lower')\n",
    "fig.colorbar(im)\n",
    "\n",
    "scat = ax.scatter([], [], c='w', alpha=0.4, label='current')\n",
    "# scat0 = ax.scatter([], [], c='g', alpha=0.1, label='past')\n",
    "scat_best = ax.scatter([], [], c='r', alpha=0.4)\n",
    "\n",
    "def setup_plot():\n",
    "    \"\"\"Initial drawing of the scatter plot.\"\"\"\n",
    "    ax.axis([lb[0], ub[0], lb[1], ub[1]])\n",
    "    scat = ax.scatter([], [], c='w', alpha=0.4, label='current')\n",
    "\n",
    "    # For FuncAnimation's sake, we need to return the artist we'll be using\n",
    "    # Note that it expects a sequence of artists, thus the trailing comma.\n",
    "    return scat\n",
    "\n",
    "def update(i):\n",
    "    \"\"\"Update the scatter plot.\"\"\"\n",
    "\n",
    "    # Set x and y data for the current location of the population. \n",
    "    data = np.array(hist_x)[8*i:8*(i+1)]\n",
    "    scat.set_offsets(data)\n",
    "\n",
    "    # We need to return the updated artist for FuncAnimation to draw..\n",
    "    # Note that it expects a sequence of artists, thus the trailing comma.\n",
    "    return scat\n",
    "\n",
    "ani = animation.FuncAnimation(fig, update, interval=400, frames=16, init_func=setup_plot, blit=True)\n",
    "Writer = animation.writers['ffmpeg']\n",
    "writer = Writer(fps=15, metadata=dict(artist='Me'), bitrate=1800)\n",
    "ani.save('DFO-TR.gif', writer='writer')\n",
    "plt.show()"
   ]
  },
  {
   "cell_type": "code",
   "execution_count": 22,
   "metadata": {},
   "outputs": [
    {
     "name": "stdout",
     "output_type": "stream",
     "text": [
      "Collecting package metadata (current_repodata.json): done\n",
      "Solving environment: done\n",
      "\n",
      "## Package Plan ##\n",
      "\n",
      "  environment location: /Users/liyuancao/opt/anaconda3\n",
      "\n",
      "  added / updated specs:\n",
      "    - ffmpeg\n",
      "\n",
      "\n",
      "The following packages will be downloaded:\n",
      "\n",
      "    package                    |            build\n",
      "    ---------------------------|-----------------\n",
      "    ffmpeg-4.2.2               |       h97e5cf8_0        22.9 MB\n",
      "    gnutls-3.6.5               |    h91ad68e_1002         1.6 MB\n",
      "    lame-3.100                 |    h1de35cc_1001         527 KB  conda-forge\n",
      "    libopus-1.3.1              |       h1de35cc_0         480 KB\n",
      "    libvpx-1.7.0               |       h378b8a2_0         1.3 MB\n",
      "    nettle-3.4.1               |    h3efe00b_1002         1.0 MB  conda-forge\n",
      "    openh264-2.1.0             |       hd9629dc_0         635 KB\n",
      "    x264-1!157.20191217        |       h1de35cc_0         910 KB\n",
      "    ------------------------------------------------------------\n",
      "                                           Total:        29.3 MB\n",
      "\n",
      "The following NEW packages will be INSTALLED:\n",
      "\n",
      "  ffmpeg             pkgs/main/osx-64::ffmpeg-4.2.2-h97e5cf8_0\n",
      "  gnutls             pkgs/main/osx-64::gnutls-3.6.5-h91ad68e_1002\n",
      "  lame               conda-forge/osx-64::lame-3.100-h1de35cc_1001\n",
      "  libopus            pkgs/main/osx-64::libopus-1.3.1-h1de35cc_0\n",
      "  libvpx             pkgs/main/osx-64::libvpx-1.7.0-h378b8a2_0\n",
      "  nettle             conda-forge/osx-64::nettle-3.4.1-h3efe00b_1002\n",
      "  openh264           pkgs/main/osx-64::openh264-2.1.0-hd9629dc_0\n",
      "  x264               pkgs/main/osx-64::x264-1!157.20191217-h1de35cc_0\n",
      "\n",
      "\n",
      "Proceed ([y]/n)? ^C\n",
      "\n",
      "CondaSystemExit: \n",
      "Operation aborted.  Exiting.\n",
      "\n"
     ]
    }
   ],
   "source": [
    "!conda install -c conda-forge ffmpeg\n"
   ]
  }
 ],
 "metadata": {
  "kernelspec": {
   "display_name": "Python 3",
   "language": "python",
   "name": "python3"
  },
  "language_info": {
   "codemirror_mode": {
    "name": "ipython",
    "version": 3
   },
   "file_extension": ".py",
   "mimetype": "text/x-python",
   "name": "python",
   "nbconvert_exporter": "python",
   "pygments_lexer": "ipython3",
   "version": "3.7.4"
  }
 },
 "nbformat": 4,
 "nbformat_minor": 4
}
